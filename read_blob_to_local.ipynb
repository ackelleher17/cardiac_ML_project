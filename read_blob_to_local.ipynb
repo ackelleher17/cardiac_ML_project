{
  "cells": [
    {
      "cell_type": "code",
      "source": [
        "# download_blobs.py\r\n",
        "# Python program to bulk download blob files from azure storage\r\n",
        "# Uses latest python SDK() for Azure blob storage\r\n",
        "# Requires python 3.6 or above\r\n",
        "\r\n",
        "from read_blob import AzureBlobFileDownloader\r\n",
        " \r\n",
        "# IMPORTANT: Replace connection string with your storage account connection string\r\n",
        "# Usually starts with DefaultEndpointsProtocol=https;...\r\n",
        "MY_CONNECTION_STRING = \"DefaultEndpointsProtocol=https;AccountName=cardiomlexplor7844707825;AccountKey=+8sppibvUITZUCbyYkJ70j7ATwBKnGuEiIM1QYZplr6T+/hGSGFl+zG2ZNK+Oz8WMoFtKQ5p39Arac0Upe5ByA==;EndpointSuffix=core.windows.net\"\r\n",
        "\r\n",
        "# Replace with blob container\r\n",
        "MY_BLOB_CONTAINER = \"cardiacml-exploration\"\r\n",
        "\r\n",
        "# Replace with the local folder where you want files to be downloaded\r\n",
        "LOCAL_BLOB_PATH = \"data_folder\"\r\n",
        "\r\n",
        "# Initialize class and upload files\r\n",
        "azure_blob_file_downloader = AzureBlobFileDownloader(MY_CONNECTION_STRING, MY_BLOB_CONTAINER, LOCAL_BLOB_PATH)\r\n",
        "azure_blob_file_downloader.download_all_blobs_in_container()"
      ],
      "outputs": [
        {
          "output_type": "stream",
          "name": "stdout",
          "text": "Intializing AzureBlobFileDownloader\nexample_dataset_flower.csv\nexample_folder\nsadfasdf\ndata_folder/example_folder/\nexample_folder/pathogens.xlsx\n"
        }
      ],
      "execution_count": 1,
      "metadata": {
        "jupyter": {
          "source_hidden": false,
          "outputs_hidden": false
        },
        "nteract": {
          "transient": {
            "deleting": false
          }
        },
        "gather": {
          "logged": 1644899374599
        }
      }
    },
    {
      "cell_type": "code",
      "source": [],
      "outputs": [],
      "execution_count": null,
      "metadata": {
        "jupyter": {
          "source_hidden": false,
          "outputs_hidden": false
        },
        "nteract": {
          "transient": {
            "deleting": false
          }
        },
        "gather": {
          "logged": 1644898640665
        }
      }
    },
    {
      "cell_type": "code",
      "source": [],
      "outputs": [],
      "execution_count": null,
      "metadata": {
        "jupyter": {
          "source_hidden": false,
          "outputs_hidden": false
        },
        "nteract": {
          "transient": {
            "deleting": false
          }
        },
        "gather": {
          "logged": 1644898570800
        }
      }
    },
    {
      "cell_type": "code",
      "source": [],
      "outputs": [],
      "execution_count": null,
      "metadata": {
        "jupyter": {
          "source_hidden": false,
          "outputs_hidden": false
        },
        "nteract": {
          "transient": {
            "deleting": false
          }
        }
      }
    }
  ],
  "metadata": {
    "kernelspec": {
      "name": "python3-azureml",
      "language": "python",
      "display_name": "Python 3.6 - AzureML"
    },
    "language_info": {
      "name": "python",
      "version": "3.6.9",
      "mimetype": "text/x-python",
      "codemirror_mode": {
        "name": "ipython",
        "version": 3
      },
      "pygments_lexer": "ipython3",
      "nbconvert_exporter": "python",
      "file_extension": ".py"
    },
    "kernel_info": {
      "name": "python3-azureml"
    },
    "nteract": {
      "version": "nteract-front-end@1.0.0"
    },
    "microsoft": {
      "host": {
        "AzureML": {
          "notebookHasBeenCompleted": true
        }
      }
    }
  },
  "nbformat": 4,
  "nbformat_minor": 2
}