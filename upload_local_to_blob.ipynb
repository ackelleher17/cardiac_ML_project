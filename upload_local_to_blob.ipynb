{
  "cells": [
    {
      "cell_type": "code",
      "source": [
        "from upload_file_to_blob import AzureBlobFileUploader\r\n",
        "\r\n",
        "# IMPORTANT: Replace connection string with your storage account connection string\r\n",
        "# Usually starts with DefaultEndpointsProtocol=https;...\r\n",
        "MY_CONNECTION_STRING = \"DefaultEndpointsProtocol=https;AccountName=cardiomlexplor7844707825;AccountKey=+8sppibvUITZUCbyYkJ70j7ATwBKnGuEiIM1QYZplr6T+/hGSGFl+zG2ZNK+Oz8WMoFtKQ5p39Arac0Upe5ByA==;EndpointSuffix=core.windows.net\"\r\n",
        " \r\n",
        "# Replace with blob container. This should be already created in azure storage.\r\n",
        "MY_FILE_CONTAINER = \"cardiacml-exploration\"\r\n",
        " \r\n",
        "# Replace with the local folder which contains the image files for upload\r\n",
        "LOCAL_FOLDER_PATH = \"data_to_upload\"\r\n",
        " \r\n",
        "# Initialize class\r\n",
        "azure_blob_file_uploader = AzureBlobFileUploader(MY_CONNECTION_STRING, MY_FILE_CONTAINER, LOCAL_FOLDER_PATH)\r\n",
        "\r\n",
        "# Upload a single file in local directory.\r\n",
        "FILENAME = \"test_upload_file.txt\"\r\n",
        "azure_blob_file_uploader.upload_image(FILENAME)\r\n",
        "\r\n",
        "# Upload all files in local directory.\r\n",
        "#azure_blob_file_uploader.upload_all_files_in_folder()"
      ],
      "outputs": [
        {
          "output_type": "stream",
          "name": "stdout",
          "text": "Intializing AzureBlobFileUploader\nuploading file - .amlignore\nuploading file - .amlignore.amltmp\nuploading file - test_image.jpg\nuploading file - test_upload_file-copy.txt\nuploading file - test_upload_file.txt\n"
        }
      ],
      "execution_count": 1,
      "metadata": {
        "gather": {
          "logged": 1645901004360
        }
      }
    },
    {
      "cell_type": "code",
      "source": [],
      "outputs": [],
      "execution_count": null,
      "metadata": {
        "jupyter": {
          "source_hidden": false,
          "outputs_hidden": false
        },
        "nteract": {
          "transient": {
            "deleting": false
          }
        }
      }
    }
  ],
  "metadata": {
    "kernelspec": {
      "name": "python3-azureml",
      "language": "python",
      "display_name": "Python 3.6 - AzureML"
    },
    "language_info": {
      "name": "python",
      "version": "3.6.9",
      "mimetype": "text/x-python",
      "codemirror_mode": {
        "name": "ipython",
        "version": 3
      },
      "pygments_lexer": "ipython3",
      "nbconvert_exporter": "python",
      "file_extension": ".py"
    },
    "kernel_info": {
      "name": "python3-azureml"
    },
    "microsoft": {
      "host": {
        "AzureML": {
          "notebookHasBeenCompleted": true
        }
      }
    },
    "nteract": {
      "version": "nteract-front-end@1.0.0"
    }
  },
  "nbformat": 4,
  "nbformat_minor": 2
}